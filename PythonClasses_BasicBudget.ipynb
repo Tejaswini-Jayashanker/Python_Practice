{
  "nbformat": 4,
  "nbformat_minor": 0,
  "metadata": {
    "colab": {
      "name": "PythonClasses_BasicBudget.ipynb",
      "provenance": [],
      "collapsed_sections": []
    },
    "kernelspec": {
      "name": "python3",
      "display_name": "Python 3"
    },
    "language_info": {
      "name": "python"
    }
  },
  "cells": [
    {
      "cell_type": "code",
      "execution_count": null,
      "metadata": {
        "id": "T9ByGx6LPuiB"
      },
      "outputs": [],
      "source": [
        ""
      ]
    },
    {
      "cell_type": "markdown",
      "source": [
        "This Program is to Practice Python OOPs.\n",
        "Basic Budgetting includes - Deposit, Withdrawal, Balance check."
      ],
      "metadata": {
        "id": "SI3KzpN_P4Se"
      }
    },
    {
      "cell_type": "code",
      "source": [
        "class Budget():\n",
        "    min_balance = 500\n",
        "    #Class Constructor:-\n",
        "    def __init__( self, amount ):\n",
        "        self.amount = Budget.min_balance    #Here, at this point, the Object is not created, so the class.variable is used.\n",
        "        self.amount += amount\n",
        "        print( \"Base Class Constructor\" )\n",
        "    \n",
        "    #Check Balance Function:-\n",
        "    def checkBalance( self ):\n",
        "        print( \"Current Balance - {} Rupees.\".format( self.amount ) )\n",
        "    \n",
        "    #Deposit Amount Function:-\n",
        "    def depositFunds( self, amount ):\n",
        "        self.amount += amount\n",
        "    \n",
        "    #Withdrawal of Funds:-\n",
        "    def withdrawal( self, amount ):\n",
        "        if amount >= self.amount:\n",
        "            print(\"Insufficient Funds! Available Balance is: \", self.amount )\n",
        "        elif self.amount <= self.min_balance:\n",
        "            print(\"Insufficient Funds! Available Balance is: \", self.amount )\n",
        "        else:\n",
        "            self.amount -= amount"
      ],
      "metadata": {
        "id": "wvAN1z1XQHi6"
      },
      "execution_count": 19,
      "outputs": []
    },
    {
      "cell_type": "code",
      "source": [
        "#Create Object:-\n",
        "test_obj = Budget( 1000)\n",
        "test_obj.checkBalance()\n",
        "\n",
        "#Withdraw - More than Minimum Balance:-\n",
        "test_obj.withdrawal( 1500 )\n",
        "test_obj.checkBalance()\n",
        "\n",
        "#Deposit Funds:-\n",
        "test_obj.depositFunds( 3000 )\n",
        "test_obj.checkBalance()\n",
        "\n",
        "#Withdraw Funds with minimum Balance untouched:-\n",
        "test_obj.withdrawal( 1500 )\n",
        "test_obj.checkBalance()\n",
        "\n",
        "#Withdraw Funds with minimum Balance untouched:-\n",
        "test_obj.withdrawal( 1500 )\n",
        "test_obj.checkBalance()\n",
        "\n",
        "#Withdraw - More than Minimum Balance:-\n",
        "test_obj.withdrawal( 1500 )\n",
        "test_obj.checkBalance()"
      ],
      "metadata": {
        "colab": {
          "base_uri": "https://localhost:8080/"
        },
        "id": "vYav0SvJRkPD",
        "outputId": "25d9a74f-bfbe-4f52-9946-7a5b6f88108b"
      },
      "execution_count": 18,
      "outputs": [
        {
          "output_type": "stream",
          "name": "stdout",
          "text": [
            "Current Balance - 1500 Rupees.\n",
            "Insufficient Funds! Available Balance is:  1500\n",
            "Current Balance - 1500 Rupees.\n",
            "Current Balance - 4500 Rupees.\n",
            "Current Balance - 3000 Rupees.\n",
            "Current Balance - 1500 Rupees.\n",
            "Insufficient Funds! Available Balance is:  1500\n",
            "Current Balance - 1500 Rupees.\n"
          ]
        }
      ]
    },
    {
      "cell_type": "markdown",
      "source": [
        "Now, We can create SubClasses/Child Classes based on Expenses and Savings."
      ],
      "metadata": {
        "id": "_IfUtXJ_e3qv"
      }
    },
    {
      "cell_type": "code",
      "source": [
        "class January( Budget ):\n",
        "    def __init__( self, money ):\n",
        "        self.money = money\n",
        "        Budget.__init__( self, money) #Initialise the Base Class too as we are using attributes and methods of that class.\n",
        "        print( \"Constructor - Child Class\" )\n",
        "    \n",
        "    def salary( self, money ):\n",
        "        Budget.depositFunds( self, money )\n",
        "    \n",
        "    def spend( self, money ):\n",
        "        Budget.withdrawal( self, money )\n"
      ],
      "metadata": {
        "id": "sdYSVl7wR4wT"
      },
      "execution_count": 35,
      "outputs": []
    },
    {
      "cell_type": "code",
      "source": [
        "Expense = Budget( 2000 )"
      ],
      "metadata": {
        "colab": {
          "base_uri": "https://localhost:8080/"
        },
        "id": "IEBEcQN8f8vo",
        "outputId": "0b481aec-c1c0-4074-edb1-0069acb8b61e"
      },
      "execution_count": 36,
      "outputs": [
        {
          "output_type": "stream",
          "name": "stdout",
          "text": [
            "Base Class Constructor\n"
          ]
        }
      ]
    },
    {
      "cell_type": "code",
      "source": [
        "Monthly = January( 1000 )"
      ],
      "metadata": {
        "colab": {
          "base_uri": "https://localhost:8080/"
        },
        "id": "1Q-Mx8UsgDlZ",
        "outputId": "0b97b251-3a67-41e1-9148-7a8bb1c2c961"
      },
      "execution_count": 37,
      "outputs": [
        {
          "output_type": "stream",
          "name": "stdout",
          "text": [
            "Base Class Constructor\n",
            "Constructor - Child Class\n"
          ]
        }
      ]
    },
    {
      "cell_type": "code",
      "source": [
        "Monthly.salary( 30000 )"
      ],
      "metadata": {
        "id": "bJpsxdKXgJRo"
      },
      "execution_count": 38,
      "outputs": []
    },
    {
      "cell_type": "code",
      "source": [
        "Monthly.checkBalance()"
      ],
      "metadata": {
        "colab": {
          "base_uri": "https://localhost:8080/"
        },
        "id": "yS_DDcXkgPKd",
        "outputId": "9096321e-a5f1-4606-d73b-6349722c9b97"
      },
      "execution_count": 39,
      "outputs": [
        {
          "output_type": "stream",
          "name": "stdout",
          "text": [
            "Current Balance - 31500 Rupees.\n"
          ]
        }
      ]
    },
    {
      "cell_type": "code",
      "source": [
        "Monthly.spend( 5000 )"
      ],
      "metadata": {
        "id": "C9n55bCOhOyz"
      },
      "execution_count": 40,
      "outputs": []
    },
    {
      "cell_type": "code",
      "source": [
        "Monthly.checkBalance()"
      ],
      "metadata": {
        "colab": {
          "base_uri": "https://localhost:8080/"
        },
        "id": "5c4F511yhmtO",
        "outputId": "6ad42f32-9757-48ec-c7ca-424dc9c3d90a"
      },
      "execution_count": 41,
      "outputs": [
        {
          "output_type": "stream",
          "name": "stdout",
          "text": [
            "Current Balance - 26500 Rupees.\n"
          ]
        }
      ]
    },
    {
      "cell_type": "code",
      "source": [
        ""
      ],
      "metadata": {
        "id": "LGgE0qmFhveH"
      },
      "execution_count": null,
      "outputs": []
    }
  ]
}