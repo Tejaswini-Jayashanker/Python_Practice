{
  "nbformat": 4,
  "nbformat_minor": 0,
  "metadata": {
    "colab": {
      "provenance": [],
      "collapsed_sections": []
    },
    "kernelspec": {
      "name": "python3",
      "display_name": "Python 3"
    },
    "language_info": {
      "name": "python"
    }
  },
  "cells": [
    {
      "cell_type": "markdown",
      "source": [
        "Python Practice:\n",
        "\n",
        "Questions inspired from: https://www.kaggle.com/code/vascodegama/beginner-python-challenges\n",
        "\n",
        "Purpose: To keep my fundamentals strong."
      ],
      "metadata": {
        "id": "SgLDQN-gKoeK"
      }
    },
    {
      "cell_type": "code",
      "execution_count": 1,
      "metadata": {
        "id": "2EOkMMPjKZnb"
      },
      "outputs": [],
      "source": [
        "#QUESTION:- Find indices of two numbers in a list that sum to a target number"
      ]
    },
    {
      "cell_type": "code",
      "source": [
        "def find_indices( num_list, target_num ):\n",
        "    sum = 0\n",
        "    ind_list = []\n",
        "    for i in range(0 , len( num_list ) ):\n",
        "        for j in range( i, ( len(num_list) ) ):\n",
        "            sum = num_list[i] + num_list[j]\n",
        "            if sum == target_num:\n",
        "                ind_list.append( [ i, j ] )\n",
        "    return ind_list"
      ],
      "metadata": {
        "id": "fa1Xz78BK7HR"
      },
      "execution_count": 27,
      "outputs": []
    },
    {
      "cell_type": "code",
      "source": [
        "numbers = [ 1 ,2, 3, 4, 5]\n",
        "targetsum = 7\n",
        "print(\"Indices (start from 0), that add to target number =\", find_indices( numbers, targetsum ) )"
      ],
      "metadata": {
        "colab": {
          "base_uri": "https://localhost:8080/"
        },
        "id": "vSVkDwMjMpzf",
        "outputId": "f5d1de65-07cb-45d5-bf1d-da6f42b1826d"
      },
      "execution_count": 28,
      "outputs": [
        {
          "output_type": "stream",
          "name": "stdout",
          "text": [
            "Indices (start from 0), that add to target number = [[1, 4], [2, 3]]\n"
          ]
        }
      ]
    },
    {
      "cell_type": "code",
      "source": [
        "targetsum = 10\n",
        "print(\"Indices (start from 0), that add to target number =\", find_indices( numbers, targetsum ) )"
      ],
      "metadata": {
        "colab": {
          "base_uri": "https://localhost:8080/"
        },
        "id": "QBO-qf5oOzKi",
        "outputId": "d95e9bd8-1c84-431a-b3c3-f94b086ca2b5"
      },
      "execution_count": 29,
      "outputs": [
        {
          "output_type": "stream",
          "name": "stdout",
          "text": [
            "Indices (start from 0), that add to target number = [[4, 4]]\n"
          ]
        }
      ]
    },
    {
      "cell_type": "code",
      "source": [
        "targetsum = 20\n",
        "print(\"Indices (start from 0), that add to target number =\", find_indices( numbers, targetsum ) )"
      ],
      "metadata": {
        "colab": {
          "base_uri": "https://localhost:8080/"
        },
        "id": "JtDzbndSQksA",
        "outputId": "eb1a82b3-e1eb-4ced-ced8-cf3f2c3981cd"
      },
      "execution_count": 30,
      "outputs": [
        {
          "output_type": "stream",
          "name": "stdout",
          "text": [
            "Indices (start from 0), that add to target number = []\n"
          ]
        }
      ]
    }
  ]
}