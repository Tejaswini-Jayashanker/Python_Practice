{
  "nbformat": 4,
  "nbformat_minor": 0,
  "metadata": {
    "colab": {
      "provenance": []
    },
    "kernelspec": {
      "name": "python3",
      "display_name": "Python 3"
    },
    "language_info": {
      "name": "python"
    }
  },
  "cells": [
    {
      "cell_type": "markdown",
      "source": [
        "Given a string “S” containing a set of words, transform it such that the words appear in the reverse order. One or more spaces separate words in “S”."
      ],
      "metadata": {
        "id": "tSqOcX7VOaT5"
      }
    },
    {
      "cell_type": "code",
      "execution_count": null,
      "metadata": {
        "id": "ITGXaEv1OWYG"
      },
      "outputs": [],
      "source": [
        "S = \"Hi! I am Iron Man.\"\n",
        "\n",
        "def reverseWords( str ):\n",
        "    special = [ \"!\", \".\", \",\", \"'\"]\n",
        "    print(\"Original String is: \", str)\n",
        "    #remove all extra characters:\n",
        "    for chars in special:\n",
        "        if chars in str:\n",
        "            str = str.replace(chars, \"\")\n",
        "    print(\"String is: \", str)\n",
        "    print(\"Word Reversal string is: \", ' '.join(str.split()[::-1]))\n",
        "    print(\"Mirror:\", str[ : : -1 ] )"
      ]
    },
    {
      "cell_type": "code",
      "source": [
        "reverseWords(S)"
      ],
      "metadata": {
        "colab": {
          "base_uri": "https://localhost:8080/"
        },
        "id": "KB4tiqEhPmKY",
        "outputId": "3a0e859a-3920-4cc3-bdab-a30931c99aca"
      },
      "execution_count": null,
      "outputs": [
        {
          "output_type": "stream",
          "name": "stdout",
          "text": [
            "Original String is:  Hi! I am Iron Man.\n",
            "String is:  Hi I am Iron Man\n",
            "Word Reversal string is:  Man Iron am I Hi\n",
            "Mirror: naM norI ma I iH\n"
          ]
        }
      ]
    },
    {
      "cell_type": "markdown",
      "source": [
        "Given an integer array nums, return true if any value appears at least twice in the array, and return false if every element is distinct."
      ],
      "metadata": {
        "id": "AStEqP4nTEqa"
      }
    },
    {
      "cell_type": "code",
      "source": [
        "def distinctValues( num ):\n",
        "    print( \"Given Numbers are: \", num )\n",
        "    setnums = set( nums )\n",
        "    #Test Print:\n",
        "    print( \"Set is: \", setnums )\n",
        "    if len( setnums ) == len( nums ):\n",
        "        return True\n",
        "    return False"
      ],
      "metadata": {
        "id": "YrlrNncxRyW0"
      },
      "execution_count": null,
      "outputs": []
    },
    {
      "cell_type": "code",
      "source": [
        "nums = [1,2,3,1]\n",
        "print( distinctValues(nums) )\n",
        "\n",
        "nums = [ 1, 5, 7, 9, 111]\n",
        "print( distinctValues(nums) )"
      ],
      "metadata": {
        "colab": {
          "base_uri": "https://localhost:8080/"
        },
        "id": "zXIY7OpnTZoj",
        "outputId": "f1909e3d-37a8-48f1-a9cc-e9d6042cb6af"
      },
      "execution_count": null,
      "outputs": [
        {
          "output_type": "stream",
          "name": "stdout",
          "text": [
            "Given Numbers are:  [1, 2, 3, 1]\n",
            "Set is:  {1, 2, 3}\n",
            "False\n",
            "Given Numbers are:  [1, 5, 7, 9, 111]\n",
            "Set is:  {1, 5, 7, 9, 111}\n",
            "True\n"
          ]
        }
      ]
    },
    {
      "cell_type": "markdown",
      "source": [
        "Given two strings s and t, return true if t is an anagram of s, and false otherwise.\n",
        "\n",
        "An Anagram is a word or phrase formed by rearranging the letters of a different word or phrase, typically using all the original letters exactly once."
      ],
      "metadata": {
        "id": "E4u05ojrUpfi"
      }
    },
    {
      "cell_type": "code",
      "source": [
        "s = \"Instagram\"\n",
        "t = 'gram'\n",
        "t1 = 'margatsnI'\n",
        "\n",
        "if sorted(s) == sorted(t1):\n",
        "    print(\" S and T are anagrams!\")\n",
        "else:\n",
        "    print(\"S and T are not anagrams!\")"
      ],
      "metadata": {
        "colab": {
          "base_uri": "https://localhost:8080/"
        },
        "id": "sO7BP-BsTe1L",
        "outputId": "00ac0fc6-53e5-4015-9ab7-50aaa90bd58e"
      },
      "execution_count": null,
      "outputs": [
        {
          "output_type": "stream",
          "name": "stdout",
          "text": [
            " S and T are anagrams!\n"
          ]
        }
      ]
    },
    {
      "cell_type": "markdown",
      "source": [
        "Given an array of integers nums and an integer target, return indices of the two numbers such that they add up to target.\n",
        "\n",
        "You may assume that each input would have exactly one solution, and you may not use the same element twice."
      ],
      "metadata": {
        "id": "bc-nvrpcVsIN"
      }
    },
    {
      "cell_type": "code",
      "source": [
        "def twoNumSum( numbers, target):\n",
        "    for i in range( 0, len(numbers) ):\n",
        "        if numbers[i] < target:\n",
        "            for j in range( i+1, len(numbers)-1):\n",
        "                print( \"Iter:\", numbers[i], numbers[j] )\n",
        "                if numbers[i] + numbers[j] == target:\n",
        "                    return [i, j]\n",
        "    return []"
      ],
      "metadata": {
        "id": "2s8TPtyWVtYL"
      },
      "execution_count": null,
      "outputs": []
    },
    {
      "cell_type": "code",
      "source": [
        "nums = [ 19, 2, 7, 11, 15 ]\n",
        "target = 9\n",
        "\n",
        "twoNumSum(nums, target)"
      ],
      "metadata": {
        "colab": {
          "base_uri": "https://localhost:8080/"
        },
        "id": "dklFz5lhVApS",
        "outputId": "c37c3d8a-5d80-419b-e9ff-a187c3ad9f23"
      },
      "execution_count": null,
      "outputs": [
        {
          "output_type": "stream",
          "name": "stdout",
          "text": [
            "Iter: 2 7\n"
          ]
        },
        {
          "output_type": "execute_result",
          "data": {
            "text/plain": [
              "[1, 2]"
            ]
          },
          "metadata": {},
          "execution_count": 69
        }
      ]
    },
    {
      "cell_type": "markdown",
      "source": [
        "Given an unsorted set of numbers from 1 to N with exactly two of them missing, find those two missing numbers."
      ],
      "metadata": {
        "id": "C0m5cp4ajbgM"
      }
    },
    {
      "cell_type": "code",
      "source": [
        "def findMissNums( num_arr ):\n",
        "    print( \"Original Num list: \", num_arr )\n",
        "    miss_nums = []\n",
        "    num_arr.sort()\n",
        "    min = num_arr[0]\n",
        "    max = num_arr[-1]\n",
        "    for nums in range( min, max):\n",
        "        if nums not in num_arr:\n",
        "            miss_nums.append(nums)\n",
        "    return miss_nums"
      ],
      "metadata": {
        "id": "8fyRRNjDfNPp"
      },
      "execution_count": null,
      "outputs": []
    },
    {
      "cell_type": "code",
      "source": [
        "nums = [6, 1, 3, 2]\n",
        "print( \"Missing numbers are:\", findMissNums( nums ) )"
      ],
      "metadata": {
        "colab": {
          "base_uri": "https://localhost:8080/"
        },
        "id": "ihJ4PER1j7RJ",
        "outputId": "a2e5484b-9232-436a-9d33-292a22dc1d47"
      },
      "execution_count": null,
      "outputs": [
        {
          "output_type": "stream",
          "name": "stdout",
          "text": [
            "Original Num list:  [6, 1, 3, 2]\n",
            "Missing numbers are: [4, 5]\n"
          ]
        }
      ]
    },
    {
      "cell_type": "markdown",
      "source": [
        "Given an integer array nums and an integer k, return the k most frequent elements. You may return the answer in any order."
      ],
      "metadata": {
        "id": "sRtlSQxVZ7GW"
      }
    },
    {
      "cell_type": "code",
      "source": [
        "import heapq\n",
        "from collections import Counter"
      ],
      "metadata": {
        "id": "BUxbBnzLvq3l"
      },
      "execution_count": null,
      "outputs": []
    },
    {
      "cell_type": "code",
      "source": [
        "def topKFreq( numbers, k):\n",
        "    mapd = dict() # \" { Value : Counts }\"\n",
        "\n",
        "    for i in range( 0, len(numbers) ):\n",
        "        if numbers[i] not in mapd:\n",
        "            mapd[ numbers[i] ] = 0\n",
        "        else:\n",
        "            mapd[ numbers[i] ] += 1\n",
        "\n",
        "    heap = [ ( value, key) for key, value in mapd.items() ]\n",
        "\n",
        "    largest = heapq.nlargest( k, heap ) #top-k elements\n",
        "\n",
        "    for i in range( k ):\n",
        "        print( largest[i][1] )"
      ],
      "metadata": {
        "id": "DXkKpwlKZ6J1"
      },
      "execution_count": null,
      "outputs": []
    },
    {
      "cell_type": "code",
      "source": [
        "nums = [1,1,1,2,2,3]\n",
        "k = 2\n",
        "topKFreq( nums, k)"
      ],
      "metadata": {
        "colab": {
          "base_uri": "https://localhost:8080/"
        },
        "id": "MW7_d6wqkBUB",
        "outputId": "332253a5-69b5-4756-a933-ed54583f2ad1"
      },
      "execution_count": null,
      "outputs": [
        {
          "output_type": "stream",
          "name": "stdout",
          "text": [
            "1\n",
            "2\n"
          ]
        }
      ]
    },
    {
      "cell_type": "markdown",
      "source": [
        "Write a function that takes the binary representation of an unsigned integer and returns the number of '1' bits it has (also known as the Hamming weight)."
      ],
      "metadata": {
        "id": "6JZxW-_z1WKI"
      }
    },
    {
      "cell_type": "code",
      "source": [
        "def binRep1s( number ):\n",
        "    ones = 0\n",
        "    strep = str( bin( number ) )\n",
        "    print(strep)\n",
        "    for i in strep:\n",
        "        if i == '1':\n",
        "            ones += 1\n",
        "    return ones"
      ],
      "metadata": {
        "id": "6Z4PFTnlzrXx"
      },
      "execution_count": null,
      "outputs": []
    },
    {
      "cell_type": "code",
      "source": [
        "num = 180\n",
        "print(binRep1s( num ))\n",
        "\n",
        "num = 190\n",
        "binRep1s( num )"
      ],
      "metadata": {
        "colab": {
          "base_uri": "https://localhost:8080/"
        },
        "id": "XoQafXPq1UyI",
        "outputId": "f70f7001-01d0-4e3f-b7db-f32105a39a77"
      },
      "execution_count": null,
      "outputs": [
        {
          "output_type": "stream",
          "name": "stdout",
          "text": [
            "0b10110100\n",
            "4\n",
            "0b10111110\n"
          ]
        },
        {
          "output_type": "execute_result",
          "data": {
            "text/plain": [
              "6"
            ]
          },
          "metadata": {},
          "execution_count": 32
        }
      ]
    },
    {
      "cell_type": "markdown",
      "source": [
        " Given an integer n, return an array ans whose length is n+1 such that for each i (0 <= i <= n) ans[i] is the number of 1’s in binary representation of i.\n",
        "\n",
        "\n",
        " Eg: 2\n",
        "\n",
        " means bin rep of 0, 1 and 2 and no of set bits in 0, 1 and 2 ==> [ 0, 1, 1]"
      ],
      "metadata": {
        "id": "Kb2SGgDC-Ql3"
      }
    },
    {
      "cell_type": "code",
      "source": [
        "def countBits( number ):\n",
        "    ans = []\n",
        "    for i in range( 0, number+1):\n",
        "        num = i\n",
        "        ones = 0\n",
        "        while num > 0:\n",
        "            if num & 1:\n",
        "                ones += 1\n",
        "            num = num >> 1\n",
        "        ans.append(ones)\n",
        "    return ans"
      ],
      "metadata": {
        "id": "85nYqKJz6lL3"
      },
      "execution_count": null,
      "outputs": []
    },
    {
      "cell_type": "code",
      "source": [
        "print( countBits( 4 ) )"
      ],
      "metadata": {
        "colab": {
          "base_uri": "https://localhost:8080/"
        },
        "id": "E9Zgc-lo-T0W",
        "outputId": "fdcb49d1-a9cf-4ed0-a9af-d4cc67cf84cc"
      },
      "execution_count": null,
      "outputs": [
        {
          "output_type": "stream",
          "name": "stdout",
          "text": [
            "[0, 1, 1, 2, 1]\n"
          ]
        }
      ]
    },
    {
      "cell_type": "markdown",
      "source": [
        "Reverse bits of a given 32 bits unsigned integer."
      ],
      "metadata": {
        "id": "VXj7VR5J_9-J"
      }
    },
    {
      "cell_type": "code",
      "source": [
        "def reverseBin( bits ):\n",
        "    print( \"Original : \", bits )\n",
        "    print( \"Reverse : \", bits[   : 1 : -1] )"
      ],
      "metadata": {
        "id": "mhP_mLxK_gcB"
      },
      "execution_count": null,
      "outputs": []
    },
    {
      "cell_type": "code",
      "source": [
        "reverseBin(\"0000011110\")"
      ],
      "metadata": {
        "colab": {
          "base_uri": "https://localhost:8080/"
        },
        "id": "u-LYMDmJ_-jd",
        "outputId": "671c336f-d3a2-413a-ac76-78cb9e6bcba9"
      },
      "execution_count": null,
      "outputs": [
        {
          "output_type": "stream",
          "name": "stdout",
          "text": [
            "Original :  0000011110\n",
            "Reverse :  01111000\n"
          ]
        }
      ]
    },
    {
      "cell_type": "code",
      "source": [
        "#NOTE:\n",
        "string = \"HELLO AVENGERS!\"\n",
        "print(\"REVERSED : \", string[: : -1] )"
      ],
      "metadata": {
        "colab": {
          "base_uri": "https://localhost:8080/"
        },
        "id": "_ijXkDyJAmPu",
        "outputId": "d4967dda-5886-43ac-f900-8f3492f1fee7"
      },
      "execution_count": null,
      "outputs": [
        {
          "output_type": "stream",
          "name": "stdout",
          "text": [
            "REVERSED :  !SREGNEVA OLLEH\n"
          ]
        }
      ]
    },
    {
      "cell_type": "code",
      "source": [
        "#Reverse Integers:\n",
        "num = 198\n",
        "#expected o/p: 891\n",
        "reversed = 0\n",
        "while num != 0:\n",
        "    digit = num % 10\n",
        "    reversed = reversed*10 + digit\n",
        "    num = num // 10\n",
        "print( reversed )"
      ],
      "metadata": {
        "id": "mrqMFkegD3no",
        "colab": {
          "base_uri": "https://localhost:8080/"
        },
        "outputId": "a527027f-9937-495f-c6ba-f675e5b8fdd3"
      },
      "execution_count": null,
      "outputs": [
        {
          "output_type": "stream",
          "name": "stdout",
          "text": [
            "891\n"
          ]
        }
      ]
    },
    {
      "cell_type": "markdown",
      "source": [
        "Solve Fibonacci Series for given Integer: n\n"
      ],
      "metadata": {
        "id": "0HZAD8Tsi7A7"
      }
    },
    {
      "cell_type": "code",
      "source": [
        "#Recursion Approach:\n",
        "\n",
        "def fibonacci( num ):\n",
        "    if num <= 1:\n",
        "        return num\n",
        "    else:\n",
        "        return fibonacci( num -1 ) + fibonacci( num -2 )\n",
        "\n",
        "#Printing Fibonacci Series:\n",
        "def printFibonacci( num ):\n",
        "    for i in range(num+1):\n",
        "       print(fibonacci(i))"
      ],
      "metadata": {
        "id": "L2oYzDfPFBW8"
      },
      "execution_count": 11,
      "outputs": []
    },
    {
      "cell_type": "code",
      "source": [
        "print( fibonacci(10) )\n",
        "printFibonacci(10)"
      ],
      "metadata": {
        "colab": {
          "base_uri": "https://localhost:8080/"
        },
        "id": "xnJHyblsjVBi",
        "outputId": "7dfb0c97-cf60-4eb7-a652-dc20aa238663"
      },
      "execution_count": 12,
      "outputs": [
        {
          "output_type": "stream",
          "name": "stdout",
          "text": [
            "55\n",
            "0\n",
            "1\n",
            "1\n",
            "2\n",
            "3\n",
            "5\n",
            "8\n",
            "13\n",
            "21\n",
            "34\n",
            "55\n"
          ]
        }
      ]
    },
    {
      "cell_type": "code",
      "source": [
        "#Dynamic Programming Approach:\n",
        "\n",
        "def dyFibo( num ):\n",
        "    dp = [None]*(num+1)\n",
        "\n",
        "    if num <= 1:\n",
        "        dp[0] = num\n",
        "        return dp\n",
        "    else:\n",
        "        dp[0] = 1\n",
        "        dp[1] = 1\n",
        "\n",
        "        for i in range( 2, num ):\n",
        "            dp[i] = dp[ i - 1 ] + dp[ i - 2 ]\n",
        "    #return dp returns all the values\n",
        "    return dp[num-1]"
      ],
      "metadata": {
        "id": "kzlLPbnFjXtw"
      },
      "execution_count": 19,
      "outputs": []
    },
    {
      "cell_type": "code",
      "source": [
        "print( dyFibo(10) )"
      ],
      "metadata": {
        "colab": {
          "base_uri": "https://localhost:8080/"
        },
        "id": "CWX9N_9llSo5",
        "outputId": "0b479bd0-83e3-468c-df15-4b56435d8b09"
      },
      "execution_count": 20,
      "outputs": [
        {
          "output_type": "stream",
          "name": "stdout",
          "text": [
            "55\n"
          ]
        }
      ]
    },
    {
      "cell_type": "markdown",
      "source": [
        "Find the Least Positive Integer missing in the given unsorted array.\n",
        "\n",
        "\n",
        "Eg: [0, 3, -1, -2, 1]\n",
        "O/P = 2"
      ],
      "metadata": {
        "id": "2SZb6ivBt_o9"
      }
    },
    {
      "cell_type": "code",
      "source": [
        "def leastPosInt( numlist ):\n",
        "    print(\"Original Number Array = \", numlist)\n",
        "    nextnum = None\n",
        "    minnum = min(numlist)\n",
        "    maxnum = max(numlist)\n",
        "    numlist.sort()\n",
        "    for i in range( minnum, maxnum+1 ):\n",
        "        nextnum = i+1\n",
        "\n",
        "        if nextnum not in numlist and nextnum >= 0:\n",
        "            print(nextnum,\"not found in given array.\")\n",
        "            return nextnum"
      ],
      "metadata": {
        "id": "MZyIURv6lVQ_"
      },
      "execution_count": 28,
      "outputs": []
    },
    {
      "cell_type": "code",
      "source": [
        "numbers = [0, 3, -1, -2, 1]\n",
        "print( leastPosInt( numbers ) )"
      ],
      "metadata": {
        "colab": {
          "base_uri": "https://localhost:8080/"
        },
        "id": "sRANfsAwvhcL",
        "outputId": "52ab9e7d-1790-46e0-a735-5150fcc540f6"
      },
      "execution_count": 29,
      "outputs": [
        {
          "output_type": "stream",
          "name": "stdout",
          "text": [
            "Original Number Array =  [0, 3, -1, -2, 1]\n",
            "2 not found in given array.\n",
            "2\n"
          ]
        }
      ]
    },
    {
      "cell_type": "code",
      "source": [
        "numbers = [0, 3, -1, -2, 7]\n",
        "print( leastPosInt( numbers ) )"
      ],
      "metadata": {
        "colab": {
          "base_uri": "https://localhost:8080/"
        },
        "id": "ZSENtqW1vnwb",
        "outputId": "a19aef09-de5e-4a12-e140-36179ec0c392"
      },
      "execution_count": 30,
      "outputs": [
        {
          "output_type": "stream",
          "name": "stdout",
          "text": [
            "Original Number Array =  [0, 3, -1, -2, 7]\n",
            "1 not found in given array.\n",
            "1\n"
          ]
        }
      ]
    },
    {
      "cell_type": "code",
      "source": [
        "numbers = [0, 3, 1, -2, 7]\n",
        "print( leastPosInt( numbers ) )"
      ],
      "metadata": {
        "colab": {
          "base_uri": "https://localhost:8080/"
        },
        "id": "rvd3JUivv54h",
        "outputId": "65fc7c66-7405-4efa-e49d-1624df4c25e8"
      },
      "execution_count": 31,
      "outputs": [
        {
          "output_type": "stream",
          "name": "stdout",
          "text": [
            "Original Number Array =  [0, 3, 1, -2, 7]\n",
            "2 not found in given array.\n",
            "2\n"
          ]
        }
      ]
    },
    {
      "cell_type": "code",
      "source": [],
      "metadata": {
        "id": "Cxc7A_M0wElB"
      },
      "execution_count": null,
      "outputs": []
    }
  ]
}