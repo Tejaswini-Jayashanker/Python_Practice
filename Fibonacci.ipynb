{
  "nbformat": 4,
  "nbformat_minor": 0,
  "metadata": {
    "colab": {
      "provenance": [],
      "collapsed_sections": []
    },
    "kernelspec": {
      "name": "python3",
      "display_name": "Python 3"
    },
    "language_info": {
      "name": "python"
    }
  },
  "cells": [
    {
      "cell_type": "markdown",
      "source": [
        "Python Practice:\n",
        "\n",
        "Questions inspired from: https://www.kaggle.com/code/vascodegama/beginner-python-challenges\n",
        "\n",
        "Purpose: To keep my fundamentals strong."
      ],
      "metadata": {
        "id": "SgLDQN-gKoeK"
      }
    },
    {
      "cell_type": "code",
      "execution_count": null,
      "metadata": {
        "id": "2EOkMMPjKZnb"
      },
      "outputs": [],
      "source": [
        "#QUESTION:-  Please write a program to compute the value of f(n) with a given n input by console.\n",
        "#Extra: do one function with and one without using recursion!"
      ]
    },
    {
      "cell_type": "code",
      "source": [
        "#WITHOUT RECURSION:-\n",
        "def fibo_no_recr( n ):\n",
        "    fibonacci = [ 0, 1 ]\n",
        "    if n == 0:\n",
        "        return 0\n",
        "    elif n == 1:\n",
        "        return 1\n",
        "    else:\n",
        "        for i in range( 2, n + 1 ):\n",
        "            fibonacci.append( fibonacci[ i - 1 ] + fibonacci[ i - 2 ] )\n",
        "    return fibonacci "
      ],
      "metadata": {
        "id": "gqzZoeAxzEDX"
      },
      "execution_count": 74,
      "outputs": []
    },
    {
      "cell_type": "code",
      "source": [
        "N = int( input(\"Enter the value: \" ) )\n",
        "print(\"The Fibonaaci series for N is: \", fibo_no_recr( N ) )"
      ],
      "metadata": {
        "colab": {
          "base_uri": "https://localhost:8080/"
        },
        "id": "uKcS82An8qy4",
        "outputId": "55348b2e-abb7-4796-896e-8fe5c06e06c3"
      },
      "execution_count": 75,
      "outputs": [
        {
          "output_type": "stream",
          "name": "stdout",
          "text": [
            "Enter the value: 5\n",
            "The Fibonaaci series for N is:  [0, 1, 1, 2, 3, 5]\n"
          ]
        }
      ]
    },
    {
      "cell_type": "code",
      "source": [
        "#WITH RECURRSION:-\n",
        "\n",
        "def fibo_recr( m ):\n",
        "    if m == 0:\n",
        "        return 0\n",
        "    elif m == 1:\n",
        "        return 1\n",
        "    else:\n",
        "        return fibo_recr( m - 1 ) + fibo_recr( m - 2 )"
      ],
      "metadata": {
        "id": "cKJR97Ww9lY5"
      },
      "execution_count": 68,
      "outputs": []
    },
    {
      "cell_type": "code",
      "source": [
        "print(\"Fibonacci Series with Recussion is:\", list( fibo_recr( i ) for i in range( 0, N+1 ) ) )"
      ],
      "metadata": {
        "colab": {
          "base_uri": "https://localhost:8080/"
        },
        "id": "DC6yCQhV-0uI",
        "outputId": "89d74fba-a3dc-4826-8d7a-f5833a46e723"
      },
      "execution_count": 72,
      "outputs": [
        {
          "output_type": "stream",
          "name": "stdout",
          "text": [
            "Fibonacci Series with Recussion is: [0, 1, 1, 2, 3, 5]\n"
          ]
        }
      ]
    }
  ]
}