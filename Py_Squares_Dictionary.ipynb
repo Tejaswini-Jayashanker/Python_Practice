{
  "nbformat": 4,
  "nbformat_minor": 0,
  "metadata": {
    "colab": {
      "provenance": [],
      "collapsed_sections": []
    },
    "kernelspec": {
      "name": "python3",
      "display_name": "Python 3"
    },
    "language_info": {
      "name": "python"
    }
  },
  "cells": [
    {
      "cell_type": "markdown",
      "source": [
        "Python Practice:\n",
        "\n",
        "Questions inspired from: https://www.kaggle.com/code/vascodegama/beginner-python-challenges\n",
        "\n",
        "Purpose: To keep my fundamentals strong."
      ],
      "metadata": {
        "id": "SgLDQN-gKoeK"
      }
    },
    {
      "cell_type": "code",
      "execution_count": 1,
      "metadata": {
        "id": "2EOkMMPjKZnb"
      },
      "outputs": [],
      "source": [
        "#QUESTION:- With a given integral number n, write a program to generate a dictionary that contains (i, i*i) such that is an integral number \n",
        "# between 1 and n (both included). and then the program should print the dictionary. \n",
        "# Suppose the following input is supplied to the program: 8 Then, \n",
        "#the output should be: {1: 1, 2: 4, 3: 9, 4: 16, 5: 25, 6: 36, 7: 49, 8: 64}"
      ]
    },
    {
      "cell_type": "code",
      "source": [
        "def sq_dict( numbers = [] ):\n",
        "    dct_nos = {}\n",
        "    for i in numbers:\n",
        "        dct_nos[i] = i*i\n",
        "    return dct_nos"
      ],
      "metadata": {
        "id": "4TC0wlwGT94t"
      },
      "execution_count": 37,
      "outputs": []
    },
    {
      "cell_type": "code",
      "source": [
        "num_list = [ 1, 2, 3, 4, 5]\n",
        "print( sq_dict( num_list ) )"
      ],
      "metadata": {
        "colab": {
          "base_uri": "https://localhost:8080/"
        },
        "id": "LSYu-xFfUK2_",
        "outputId": "060c37c9-7f0e-49dc-c105-714fa15241a6"
      },
      "execution_count": 38,
      "outputs": [
        {
          "output_type": "stream",
          "name": "stdout",
          "text": [
            "{1: 1, 2: 4, 3: 9, 4: 16, 5: 25}\n"
          ]
        }
      ]
    }
  ]
}