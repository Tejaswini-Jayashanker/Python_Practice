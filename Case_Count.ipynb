{
  "nbformat": 4,
  "nbformat_minor": 0,
  "metadata": {
    "colab": {
      "provenance": [],
      "collapsed_sections": []
    },
    "kernelspec": {
      "name": "python3",
      "display_name": "Python 3"
    },
    "language_info": {
      "name": "python"
    }
  },
  "cells": [
    {
      "cell_type": "markdown",
      "source": [
        "Python Practice:\n",
        "\n",
        "Questions inspired from: https://www.kaggle.com/code/vascodegama/beginner-python-challenges\n",
        "\n",
        "Purpose: To keep my fundamentals strong."
      ],
      "metadata": {
        "id": "SgLDQN-gKoeK"
      }
    },
    {
      "cell_type": "code",
      "execution_count": null,
      "metadata": {
        "id": "2EOkMMPjKZnb"
      },
      "outputs": [],
      "source": [
        "#QUESTION:-  Question: Write a program that accepts a sentence and calculate the number of upper case letters and lower case letters. \n",
        "#Suppose the following input is supplied to the program: Hello world! Then, the output should be: UPPER CASE 1 LOWER CASE 9"
      ]
    },
    {
      "cell_type": "code",
      "source": [
        "def CaseCount( str_sentence ):\n",
        "    upper_count = 0\n",
        "    lower_count = 0\n",
        "    for i in str_sentence:\n",
        "        if i.isupper():\n",
        "            upper_count += 1\n",
        "        elif i.islower():\n",
        "            lower_count += 1\n",
        "        else:\n",
        "            continue\n",
        "    return upper_count, lower_count"
      ],
      "metadata": {
        "id": "gqzZoeAxzEDX"
      },
      "execution_count": 53,
      "outputs": []
    },
    {
      "cell_type": "code",
      "source": [
        "InputString = input(\"Enter the input string: \")\n",
        "up, low = CaseCount( InputString )\n",
        "print(\"UPPER CASE: \", up, \"LOWER CASE: \", low)"
      ],
      "metadata": {
        "colab": {
          "base_uri": "https://localhost:8080/"
        },
        "id": "Q_EWqiky2ImR",
        "outputId": "98fa0762-197b-4938-f4fd-6af9eb0ff228"
      },
      "execution_count": 55,
      "outputs": [
        {
          "output_type": "stream",
          "name": "stdout",
          "text": [
            "Enter the input string: Tejaswini J\n",
            "UPPER CASE:  2 LOWER CASE:  8\n"
          ]
        }
      ]
    },
    {
      "cell_type": "code",
      "source": [],
      "metadata": {
        "id": "YO0lHjt92Zvm"
      },
      "execution_count": null,
      "outputs": []
    }
  ]
}