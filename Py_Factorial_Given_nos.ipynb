{
  "nbformat": 4,
  "nbformat_minor": 0,
  "metadata": {
    "colab": {
      "provenance": [],
      "collapsed_sections": []
    },
    "kernelspec": {
      "name": "python3",
      "display_name": "Python 3"
    },
    "language_info": {
      "name": "python"
    }
  },
  "cells": [
    {
      "cell_type": "markdown",
      "source": [
        "Python Practice:\n",
        "\n",
        "Questions inspired from: https://www.kaggle.com/code/vascodegama/beginner-python-challenges\n",
        "\n",
        "Purpose: To keep my fundamentals strong."
      ],
      "metadata": {
        "id": "SgLDQN-gKoeK"
      }
    },
    {
      "cell_type": "code",
      "execution_count": 1,
      "metadata": {
        "id": "2EOkMMPjKZnb"
      },
      "outputs": [],
      "source": [
        "#QUESTION:- Write a program which can compute the factorial of a given numbers. The results should be printed in a comma-separated sequence on a single line. \n",
        "#Suppose the following input is supplied to the program: 8 Then, the output should be: 40320"
      ]
    },
    {
      "cell_type": "code",
      "source": [
        "def factorial( number ):\n",
        "    if number == 1:\n",
        "        return 1\n",
        "    return number*factorial( number - 1 )"
      ],
      "metadata": {
        "id": "4TC0wlwGT94t"
      },
      "execution_count": 34,
      "outputs": []
    },
    {
      "cell_type": "code",
      "source": [
        "factorial(8)"
      ],
      "metadata": {
        "colab": {
          "base_uri": "https://localhost:8080/"
        },
        "id": "LSYu-xFfUK2_",
        "outputId": "56162f4c-b30f-493b-9a64-15bb6a148bb4"
      },
      "execution_count": 35,
      "outputs": [
        {
          "output_type": "execute_result",
          "data": {
            "text/plain": [
              "40320"
            ]
          },
          "metadata": {},
          "execution_count": 35
        }
      ]
    },
    {
      "cell_type": "code",
      "source": [
        "#To find factorial of multiple numbers:\n",
        "num_list = [ 1, 2, 3, 4, 5, 6, 7, 8, 9, 10 ]\n",
        "for i in num_list:\n",
        "    print(\"Factorial of\", i ,\"is: \", factorial(i) )"
      ],
      "metadata": {
        "colab": {
          "base_uri": "https://localhost:8080/"
        },
        "id": "8yKZkj-6Uw8S",
        "outputId": "2e3a7042-d5a5-4d1c-9c14-df2c6fc7aadd"
      },
      "execution_count": 36,
      "outputs": [
        {
          "output_type": "stream",
          "name": "stdout",
          "text": [
            "Factorial of 1 is:  1\n",
            "Factorial of 2 is:  2\n",
            "Factorial of 3 is:  6\n",
            "Factorial of 4 is:  24\n",
            "Factorial of 5 is:  120\n",
            "Factorial of 6 is:  720\n",
            "Factorial of 7 is:  5040\n",
            "Factorial of 8 is:  40320\n",
            "Factorial of 9 is:  362880\n",
            "Factorial of 10 is:  3628800\n"
          ]
        }
      ]
    }
  ]
}