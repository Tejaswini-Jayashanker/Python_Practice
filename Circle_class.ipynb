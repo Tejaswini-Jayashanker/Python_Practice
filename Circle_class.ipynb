{
  "nbformat": 4,
  "nbformat_minor": 0,
  "metadata": {
    "colab": {
      "provenance": [],
      "collapsed_sections": []
    },
    "kernelspec": {
      "name": "python3",
      "display_name": "Python 3"
    },
    "language_info": {
      "name": "python"
    }
  },
  "cells": [
    {
      "cell_type": "markdown",
      "source": [
        "Python Practice:\n",
        "\n",
        "Questions inspired from: https://www.kaggle.com/code/vascodegama/beginner-python-challenges\n",
        "\n",
        "Purpose: To keep my fundamentals strong."
      ],
      "metadata": {
        "id": "SgLDQN-gKoeK"
      }
    },
    {
      "cell_type": "code",
      "execution_count": null,
      "metadata": {
        "id": "2EOkMMPjKZnb"
      },
      "outputs": [],
      "source": [
        "#QUESTION:-  Define a class named Circle which can be constructed by a radius. \n",
        "#The Circle class has a method which can compute the area.\n",
        "\n",
        "#Extra: Add an extra property to the class with a default value"
      ]
    },
    {
      "cell_type": "code",
      "source": [
        "#import necessary libraries:\n",
        "import math\n",
        "import matplotlib.pyplot as plt"
      ],
      "metadata": {
        "id": "3vTPC_K-vEr5"
      },
      "execution_count": 8,
      "outputs": []
    },
    {
      "cell_type": "code",
      "source": [
        "isFalse = False\n",
        "isTrue = True\n",
        "\n",
        "class Circle:\n",
        "    def __init__(self, radius = 2, cent_x = 0, cent_y = 0, plot = isFalse ):\n",
        "        self.radius = radius\n",
        "        self.plot = plot\n",
        "        self.cent_x = cent_x\n",
        "        self.cent_y = cent_y\n",
        "    \n",
        "    def area( self, radius ):\n",
        "        self.area = math.pi*math.pow(radius, 2)\n",
        "        return self.area\n",
        "    \n",
        "    def plotcircle( self, radius, cent_x, cent_y, plot ):\n",
        "        if plot == True:\n",
        "            fig, ax = plt.subplots()\n",
        "            drawCirc = plt.Circle( (self.cent_x, self.cent_y), self.radius, color = 'blue' )\n",
        "            #ax.set_aspect( 1 )\n",
        "            ax.add_artist( drawCirc )\n",
        "            plt.show()"
      ],
      "metadata": {
        "id": "4TC0wlwGT94t"
      },
      "execution_count": 50,
      "outputs": []
    },
    {
      "cell_type": "code",
      "source": [
        "rad = float( input(\"Enter the radius of the Circle: \" ) )\n",
        "Circ = Circle(rad)\n",
        "print( \"Area of the Circle of radius\",rad, \"is\", Circ.area( rad ) )"
      ],
      "metadata": {
        "colab": {
          "base_uri": "https://localhost:8080/"
        },
        "id": "7jlHkGfSvW4y",
        "outputId": "6786bdd1-84be-4226-8a16-b00aa4a76f93"
      },
      "execution_count": 51,
      "outputs": [
        {
          "output_type": "stream",
          "name": "stdout",
          "text": [
            "Enter the radius of the Circle: 0.3\n",
            "Area of the Circle of radius 0.3 is 0.2827433388230814\n"
          ]
        }
      ]
    },
    {
      "cell_type": "code",
      "source": [
        "Circ.plotcircle( rad, 0.7, 0.5, True )"
      ],
      "metadata": {
        "colab": {
          "base_uri": "https://localhost:8080/",
          "height": 269
        },
        "id": "Q9Mi4I0Lvyyq",
        "outputId": "6cc02860-d21f-4c03-8a97-ccd0ec6d7248"
      },
      "execution_count": 52,
      "outputs": [
        {
          "output_type": "display_data",
          "data": {
            "text/plain": [
              "<Figure size 432x288 with 1 Axes>"
            ],
            "image/png": "[encoded data removed]"
          },
          "metadata": {
            "needs_background": "light"
          }
        }
      ]
    },
    {
      "cell_type": "code",
      "source": [],
      "metadata": {
        "id": "gqzZoeAxzEDX"
      },
      "execution_count": null,
      "outputs": []
    }
  ]
}